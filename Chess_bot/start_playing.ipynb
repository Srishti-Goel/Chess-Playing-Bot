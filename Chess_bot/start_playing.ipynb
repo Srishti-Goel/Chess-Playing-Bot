def play_game(board, white_player, black_player, last_move=None):
    """
    Plays a game till completion
    """
    
    display(board)
    move_timings = []
    move_order = []
    scores = []
    
    while (not board.is_game_over()):
        player = white_player if board.turn == chess.WHITE else black_player
        init_time = time.time()
        move, score = player.play(board)
        final_time = time.time()
        
        if(board.turn == True):
            score = -score
        
        move_timings.append(final_time - init_time)
        move_order.append(len(board.move_stack))
        scores.append(score)
        
        board.push(move)
        
        print(len(board.move_stack))
        display(board)
        
    if(board.is_game_over()):
        print("K-O")
    
    plt.plot(move_order, move_timings)
    plt.xlabel("Moves")
    plt.ylabel("Time Taken(s)")
    plt.show()
        
    
    plt.plot(move_order, scores)
    plt.xlabel("Moves")
    plt.ylabel("Scores")
    plt.show()
    
    return board

def svg_display(board):
    move = board.peek if len(board.move_stack) else None
    display(chess.svg.board(board, lastMove = move, size=300))
