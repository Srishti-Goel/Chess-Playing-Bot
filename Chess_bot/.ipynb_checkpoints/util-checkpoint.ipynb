{
 "cells": [
  {
   "cell_type": "code",
   "execution_count": null,
   "metadata": {
    "scrolled": false
   },
   "outputs": [],
   "source": [
    "import chess\n",
    "import time\n",
    "\n",
    "import matplotlib.pyplot as plt\n",
    "import import_ipynb\n",
    "from ConsolePlayer import ConsolePlayer\n",
    "from DummyEngine import DummyEngine\n",
    "from ScoreEngine import ScoreEngine"
   ]
  },
  {
   "cell_type": "code",
   "execution_count": null,
   "metadata": {
    "scrolled": false
   },
   "outputs": [],
   "source": [
    "def play_game(board, white_player, black_player, last_move=None):\n",
    "    \"\"\"\n",
    "    Plays a game till completion\n",
    "    \"\"\"\n",
    "    \n",
    "    display(board)\n",
    "    move_timings = []\n",
    "    move_order = []\n",
    "    scores = []\n",
    "    \n",
    "    while (not board.is_game_over()):\n",
    "        player = white_player if board.turn == chess.WHITE else black_player\n",
    "        init_time = time.time()\n",
    "        move, score = player.play(board)\n",
    "        final_time = time.time()\n",
    "        \n",
    "        if(board.turn == True):\n",
    "            score = -score\n",
    "        \n",
    "        move_timings.append(final_time - init_time)\n",
    "        move_order.append(len(board.move_stack))\n",
    "        scores.append(score)\n",
    "        \n",
    "        board.push(move)\n",
    "        \n",
    "        print(len(board.move_stack))\n",
    "        display(board)\n",
    "        \n",
    "    if(board.is_game_over()):\n",
    "        print(\"K-O\")\n",
    "    \n",
    "    plt.plot(move_order, move_timings)\n",
    "    plt.xlabel(\"Moves\")\n",
    "    plt.ylabel(\"Time Taken(s)\")\n",
    "    plt.show()\n",
    "        \n",
    "    \n",
    "    plt.plot(move_order, scores)\n",
    "    plt.xlabel(\"Moves\")\n",
    "    plt.ylabel(\"Scores\")\n",
    "    plt.show()\n",
    "    \n",
    "    return board\n",
    "\n",
    "def svg_display(board):\n",
    "    move = board.peek if len(board.move_stack) else None\n",
    "    display(chess.svg.board(board, lastMove = move, size=300))"
   ]
  },
  {
   "cell_type": "code",
   "execution_count": null,
   "metadata": {
    "scrolled": false
   },
   "outputs": [],
   "source": [
    "board = chess.Board()\n",
    "move = board.move_stack\n",
    "play_game(board, ConsolePlayer(), DummyEngine())"
   ]
  },
  {
   "cell_type": "code",
   "execution_count": null,
   "metadata": {
    "scrolled": false
   },
   "outputs": [],
   "source": [
    "board = chess.Board()\n",
    "play_game(board, DummyEngine(), DummyEngine())\n"
   ]
  },
  {
   "cell_type": "code",
   "execution_count": null,
   "metadata": {
    "scrolled": false
   },
   "outputs": [],
   "source": [
    "board = chess.Board()\n",
    "\n",
    "test_engine = ScoreEngine()\n",
    "test_engine.play(board)"
   ]
  },
  {
   "cell_type": "code",
   "execution_count": null,
   "metadata": {
    "scrolled": false
   },
   "outputs": [],
   "source": [
    "board = chess.Board()\n",
    "move = board.move_stack\n",
    "play_game(board, ScoreEngine(), DummyEngine(), move)"
   ]
  },
  {
   "cell_type": "code",
   "execution_count": null,
   "metadata": {
    "scrolled": false
   },
   "outputs": [],
   "source": [
    "board = chess.Board()\n",
    "\n",
    "play_game(board, ScoreEngine(), ScoreEngine())"
   ]
  },
  {
   "cell_type": "code",
   "execution_count": null,
   "metadata": {
    "scrolled": false
   },
   "outputs": [],
   "source": [
    "board = chess.Board()\n",
    "test_engine = ScoreEngine(improved_space_counter)\n",
    "test_engine.play(board)"
   ]
  },
  {
   "cell_type": "code",
   "execution_count": null,
   "metadata": {
    "scrolled": false
   },
   "outputs": [],
   "source": [
    "board = chess.Board()\n",
    "\n",
    "play_game(board, ScoreEngine(score_counter = \"minimax\"), ScoreEngine('minimax'))"
   ]
  },
  {
   "cell_type": "code",
   "execution_count": null,
   "metadata": {
    "scrolled": false
   },
   "outputs": [],
   "source": [
    "board = chess.Board()\n",
    "board.push(chess.Move.from_uci('d2d3'))\n",
    "board.push(chess.Move.from_uci('c7c5'))\n",
    "board.push(chess.Move.from_uci('c1g5'))\n",
    "board.push(chess.Move.from_uci('g7g6'))\n",
    "board.push(chess.Move.from_uci('c2c3'))\n",
    "board.push(chess.Move.from_uci('d7d5'))\n",
    "board.push(chess.Move.from_uci('d1c2'))\n",
    "board.push(chess.Move.from_uci('b8c6'))\n",
    "board.push(chess.Move.from_uci('e2e4'))\n",
    "board.push(chess.Move.from_uci('f8g7'))\n",
    "board.push(chess.Move.from_uci('e4d5'))\n",
    "board.push(chess.Move.from_uci('g7h6'))\n",
    "board.push(chess.Move.from_uci('g5f4'))\n",
    "board.push(chess.Move.from_uci('d8c7'))\n",
    "board.push(chess.Move.from_uci('f4c7'))\n",
    "board.push(chess.Move.from_uci('g6g5'))\n",
    "board.push(chess.Move.from_uci('d5c6'))\n",
    "board.push(chess.Move.from_uci('b7b6'))\n",
    "board.push(chess.Move.from_uci('c7e5'))\n",
    "board.push(chess.Move.from_uci('c5c4'))\n",
    "board.push(chess.Move.from_uci('e5h8'))\n",
    "board.push(chess.Move.from_uci('a7a5'))\n",
    "board.push(chess.Move.from_uci('d3c4'))\n",
    "board.push(chess.Move.from_uci('b6b5'))\n",
    "board.push(chess.Move.from_uci('c2h7'))\n",
    "board.push(chess.Move.from_uci('c8d7'))\n",
    "board.push(chess.Move.from_uci('h7g8'))\n",
    "board.push(chess.Move.from_uci('h6f8'))\n",
    "board.push(chess.Move.from_uci('c6d7'))\n",
    "board.push(chess.Move.from_uci('e8d8'))\n",
    "board.push(chess.Move.from_uci('g8f8'))\n",
    "board.push(chess.Move.from_uci('d8c7'))\n",
    "board.push(chess.Move.from_uci('d7d8q'))\n",
    "board.push(chess.Move.from_uci('c7b7'))\n",
    "board.push(chess.Move.from_uci('d8d7'))\n",
    "board.push(chess.Move.from_uci('b7a6'))\n",
    "board.push(chess.Move.from_uci('c4b5'))\n",
    "board.push(chess.Move.from_uci('a6b6'))\n",
    "display(board)"
   ]
  },
  {
   "cell_type": "code",
   "execution_count": null,
   "metadata": {
    "scrolled": false
   },
   "outputs": [],
   "source": [
    "print(list(board.legal_moves))"
   ]
  },
  {
   "cell_type": "code",
   "execution_count": null,
   "metadata": {
    "scrolled": false
   },
   "outputs": [],
   "source": [
    "play_game(board, ScoreEngine(score_counter = \"minimax\"), ScoreEngine())"
   ]
  },
  {
   "cell_type": "code",
   "execution_count": null,
   "metadata": {
    "scrolled": true
   },
   "outputs": [],
   "source": [
    "board = chess.Board()\n",
    "play_game(board, ScoreEngine('minimax'), ConsolePlayer())"
   ]
  },
  {
   "cell_type": "code",
   "execution_count": null,
   "metadata": {
    "scrolled": false
   },
   "outputs": [],
   "source": [
    "board = chess.Board()\n",
    "play_game(board, ScoreEngine('minimax'), ScoreEngine('minimax'))"
   ]
  },
  {
   "cell_type": "code",
   "execution_count": null,
   "metadata": {
    "scrolled": false
   },
   "outputs": [],
   "source": [
    "board = chess.Board()\n",
    "play_game(board, ScoreEngine('minimax'), DummyEngine())"
   ]
  },
  {
   "cell_type": "code",
   "execution_count": null,
   "metadata": {
    "scrolled": true
   },
   "outputs": [],
   "source": [
    "board = chess.Board()\n",
    "play_game(board, ScoreEngine('minimax'), ScoreEngine())"
   ]
  },
  {
   "cell_type": "code",
   "execution_count": null,
   "metadata": {
    "scrolled": true
   },
   "outputs": [],
   "source": []
  }
 ],
 "metadata": {
  "kernelspec": {
   "display_name": "Python 3",
   "language": "python",
   "name": "python3"
  },
  "language_info": {
   "codemirror_mode": {
    "name": "ipython",
    "version": 3
   },
   "file_extension": ".py",
   "mimetype": "text/x-python",
   "name": "python",
   "nbconvert_exporter": "python",
   "pygments_lexer": "ipython3",
   "version": "3.8.5"
  }
 },
 "nbformat": 4,
 "nbformat_minor": 4
}
