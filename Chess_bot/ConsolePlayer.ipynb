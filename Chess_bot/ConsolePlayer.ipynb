{
 "cells": [
  {
   "cell_type": "code",
   "execution_count": 1,
   "metadata": {},
   "outputs": [],
   "source": [
    "import chess\n",
    "\n",
    "class ConsolePlayer(object):\n",
    "    def __init__(self):\n",
    "        None\n",
    "        \n",
    "    def play(self, board):\n",
    "        while True:\n",
    "            try:\n",
    "                m = input(\"Enter your move:\")\n",
    "            except ValueError:\n",
    "                print(\"Invalid move\")\n",
    "                m = None\n",
    "            move = chess.Move.from_uci(m)\n",
    "            if board.is_legal(move):\n",
    "                break\n",
    "            print(\"Illegal move\")\n",
    "            \n",
    "        return move, 0"
   ]
  },
  {
   "cell_type": "code",
   "execution_count": null,
   "metadata": {},
   "outputs": [],
   "source": []
  }
 ],
 "metadata": {
  "kernelspec": {
   "display_name": "Python 3",
   "language": "python",
   "name": "python3"
  },
  "language_info": {
   "codemirror_mode": {
    "name": "ipython",
    "version": 3
   },
   "file_extension": ".py",
   "mimetype": "text/x-python",
   "name": "python",
   "nbconvert_exporter": "python",
   "pygments_lexer": "ipython3",
   "version": "3.8.5"
  }
 },
 "nbformat": 4,
 "nbformat_minor": 4
}
